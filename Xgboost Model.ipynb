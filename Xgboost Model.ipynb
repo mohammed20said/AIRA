{
 "cells": [
  {
   "cell_type": "code",
   "execution_count": 1,
   "id": "1be451ef-a892-4ccb-b666-01799abaf392",
   "metadata": {},
   "outputs": [],
   "source": [
    "import pandas as pd \n",
    "import numpy as np\n",
    "from sklearn.model_selection import train_test_split\n",
    "import tensorflow as tf\n",
    "from tensorflow.keras.models import Sequential\n",
    "import xgboost as xgb\n",
    "import matplotlib.pyplot as plt\n",
    "import seaborn as sns\n",
    "from sklearn.metrics import mean_absolute_error, mean_squared_error, r2_score"
   ]
  },
  {
   "cell_type": "code",
   "execution_count": 2,
   "id": "19fc9005-dea8-41c9-8238-6c02c23f83c7",
   "metadata": {},
   "outputs": [],
   "source": [
    "# Calculate metrics\n",
    "def calculate_metrics(y_true, y_pred):\n",
    "    mae = mean_absolute_error(y_true, y_pred)\n",
    "    mse = mean_squared_error(y_true, y_pred)\n",
    "    rmse = np.sqrt(mse)\n",
    "    r2 = r2_score(y_true, y_pred)\n",
    "    return mae, mse, rmse, r2"
   ]
  },
  {
   "cell_type": "code",
   "execution_count": 3,
   "id": "6ef75288-eed5-425a-a069-51f2239f0c3b",
   "metadata": {},
   "outputs": [
    {
     "data": {
      "text/html": [
       "<div>\n",
       "<style scoped>\n",
       "    .dataframe tbody tr th:only-of-type {\n",
       "        vertical-align: middle;\n",
       "    }\n",
       "\n",
       "    .dataframe tbody tr th {\n",
       "        vertical-align: top;\n",
       "    }\n",
       "\n",
       "    .dataframe thead th {\n",
       "        text-align: right;\n",
       "    }\n",
       "</style>\n",
       "<table border=\"1\" class=\"dataframe\">\n",
       "  <thead>\n",
       "    <tr style=\"text-align: right;\">\n",
       "      <th></th>\n",
       "      <th>Field of activity</th>\n",
       "      <th>Process / Machine / Equipement</th>\n",
       "      <th>Risk Related</th>\n",
       "      <th>Risk Causes</th>\n",
       "      <th>Risk Effects</th>\n",
       "      <th>Severity (1-10)</th>\n",
       "      <th>Occurrence (1-10)</th>\n",
       "      <th>Impact (1-10)</th>\n",
       "      <th>Criticality (Severity * Occurrence * Impact)</th>\n",
       "    </tr>\n",
       "  </thead>\n",
       "  <tbody>\n",
       "    <tr>\n",
       "      <th>0</th>\n",
       "      <td>Office administrative / support/ other busines...</td>\n",
       "      <td>Production</td>\n",
       "      <td>Operator error</td>\n",
       "      <td>Insufficient training</td>\n",
       "      <td>Damage to machinery</td>\n",
       "      <td>7</td>\n",
       "      <td>8</td>\n",
       "      <td>9</td>\n",
       "      <td>504</td>\n",
       "    </tr>\n",
       "    <tr>\n",
       "      <th>1</th>\n",
       "      <td>Automotive industry</td>\n",
       "      <td>Production</td>\n",
       "      <td>Improper use of extension cords</td>\n",
       "      <td>Overloading, improper connections</td>\n",
       "      <td>Fire, equipment damage</td>\n",
       "      <td>4</td>\n",
       "      <td>7</td>\n",
       "      <td>10</td>\n",
       "      <td>280</td>\n",
       "    </tr>\n",
       "    <tr>\n",
       "      <th>2</th>\n",
       "      <td>Dyeing of textile and clothing</td>\n",
       "      <td>Management</td>\n",
       "      <td>Leadership turnover</td>\n",
       "      <td>High executive turnover</td>\n",
       "      <td>Decreased morale</td>\n",
       "      <td>8</td>\n",
       "      <td>5</td>\n",
       "      <td>1</td>\n",
       "      <td>40</td>\n",
       "    </tr>\n",
       "    <tr>\n",
       "      <th>3</th>\n",
       "      <td>Financial services incl. Insurance business</td>\n",
       "      <td>Production</td>\n",
       "      <td>Calibration errors</td>\n",
       "      <td>Poor calibration practices</td>\n",
       "      <td>Inconsistent product quality</td>\n",
       "      <td>5</td>\n",
       "      <td>6</td>\n",
       "      <td>3</td>\n",
       "      <td>90</td>\n",
       "    </tr>\n",
       "    <tr>\n",
       "      <th>4</th>\n",
       "      <td>Actitivities of membership organisations</td>\n",
       "      <td>Compliance</td>\n",
       "      <td>Non-compliance with labor laws</td>\n",
       "      <td>Lack of awareness</td>\n",
       "      <td>Legal penalties</td>\n",
       "      <td>7</td>\n",
       "      <td>4</td>\n",
       "      <td>7</td>\n",
       "      <td>196</td>\n",
       "    </tr>\n",
       "  </tbody>\n",
       "</table>\n",
       "</div>"
      ],
      "text/plain": [
       "                                   Field of activity  \\\n",
       "0  Office administrative / support/ other busines...   \n",
       "1                                Automotive industry   \n",
       "2                     Dyeing of textile and clothing   \n",
       "3        Financial services incl. Insurance business   \n",
       "4           Actitivities of membership organisations   \n",
       "\n",
       "  Process / Machine / Equipement                     Risk Related  \\\n",
       "0                     Production                   Operator error   \n",
       "1                     Production  Improper use of extension cords   \n",
       "2                     Management              Leadership turnover   \n",
       "3                     Production               Calibration errors   \n",
       "4                     Compliance   Non-compliance with labor laws   \n",
       "\n",
       "                         Risk Causes                  Risk Effects  \\\n",
       "0              Insufficient training           Damage to machinery   \n",
       "1  Overloading, improper connections        Fire, equipment damage   \n",
       "2            High executive turnover              Decreased morale   \n",
       "3         Poor calibration practices  Inconsistent product quality   \n",
       "4                  Lack of awareness               Legal penalties   \n",
       "\n",
       "   Severity (1-10)  Occurrence (1-10)  Impact (1-10)  \\\n",
       "0                7                  8              9   \n",
       "1                4                  7             10   \n",
       "2                8                  5              1   \n",
       "3                5                  6              3   \n",
       "4                7                  4              7   \n",
       "\n",
       "   Criticality (Severity * Occurrence * Impact)  \n",
       "0                                           504  \n",
       "1                                           280  \n",
       "2                                            40  \n",
       "3                                            90  \n",
       "4                                           196  "
      ]
     },
     "execution_count": 3,
     "metadata": {},
     "output_type": "execute_result"
    }
   ],
   "source": [
    "df = pd.read_excel('data_Finel.xlsx')\n",
    "df.head()"
   ]
  },
  {
   "cell_type": "code",
   "execution_count": 4,
   "id": "564bb998-7f2a-4a5e-ba57-d370fbc0dcf2",
   "metadata": {},
   "outputs": [],
   "source": [
    "# Encode categorical variables using one-hot encoding\n",
    "df_encoded = pd.get_dummies(df, columns=[\n",
    "    'Field of activity', 'Process / Machine / Equipement', 'Risk Related', 'Risk Causes', 'Risk Effects'\n",
    "])\n",
    "\n",
    "# Separate features and target\n",
    "X = df_encoded.drop(columns=['Criticality (Severity * Occurrence * Impact)'])\n",
    "y = df_encoded['Criticality (Severity * Occurrence * Impact)']"
   ]
  },
  {
   "cell_type": "code",
   "execution_count": 5,
   "id": "98258a1c-7b0c-4eb0-96af-60015ae9d089",
   "metadata": {},
   "outputs": [],
   "source": [
    "# Split the data into training and testing sets\n",
    "X_train, X_test, y_train, y_test = train_test_split(X, y, test_size=0.2, random_state=42)\n",
    "X_train = X_train.astype('float32')\n",
    "X_test = X_test.astype('float32')\n",
    "y_train = y_train.astype('float32')\n",
    "y_test = y_test.astype('float32')"
   ]
  },
  {
   "cell_type": "code",
   "execution_count": 6,
   "id": "3b4633a4-57f0-461c-a9df-6fa9301b0d64",
   "metadata": {},
   "outputs": [],
   "source": [
    "# Initialize and train the model\n",
    "xgb_model = xgb.XGBRegressor(n_estimators=100, random_state=42)\n",
    "xgb_model.fit(X_train, y_train)\n",
    "\n",
    "# Make predictions\n",
    "y_pred_xgb = xgb_model.predict(X_test)\n",
    "\n",
    "# Evaluate the model\n",
    "mae_xgb = mean_absolute_error(y_test, y_pred_xgb)"
   ]
  },
  {
   "cell_type": "code",
   "execution_count": 11,
   "id": "b7c5b6a7-ba32-4ed1-aeee-2eefa4cc3728",
   "metadata": {},
   "outputs": [
    {
     "data": {
      "text/plain": [
       "['xgb_model.joblib']"
      ]
     },
     "execution_count": 11,
     "metadata": {},
     "output_type": "execute_result"
    }
   ],
   "source": [
    "import joblib\n",
    "joblib.dump(xgb_model, 'xgb_model.joblib')"
   ]
  },
  {
   "cell_type": "code",
   "execution_count": 7,
   "id": "d6af11d5-7acd-4801-9b19-b93ccdcb38b8",
   "metadata": {},
   "outputs": [
    {
     "data": {
      "text/plain": [
       "2.3054268"
      ]
     },
     "execution_count": 7,
     "metadata": {},
     "output_type": "execute_result"
    }
   ],
   "source": [
    "mae_xgb"
   ]
  },
  {
   "cell_type": "code",
   "execution_count": 8,
   "id": "42be6d33-090b-445c-9774-9d107f3c50c6",
   "metadata": {},
   "outputs": [
    {
     "data": {
      "text/html": [
       "<div>\n",
       "<style scoped>\n",
       "    .dataframe tbody tr th:only-of-type {\n",
       "        vertical-align: middle;\n",
       "    }\n",
       "\n",
       "    .dataframe tbody tr th {\n",
       "        vertical-align: top;\n",
       "    }\n",
       "\n",
       "    .dataframe thead th {\n",
       "        text-align: right;\n",
       "    }\n",
       "</style>\n",
       "<table border=\"1\" class=\"dataframe\">\n",
       "  <thead>\n",
       "    <tr style=\"text-align: right;\">\n",
       "      <th></th>\n",
       "      <th>Actual</th>\n",
       "      <th>Predicted</th>\n",
       "    </tr>\n",
       "  </thead>\n",
       "  <tbody>\n",
       "    <tr>\n",
       "      <th>28260</th>\n",
       "      <td>10.0</td>\n",
       "      <td>10.122319</td>\n",
       "    </tr>\n",
       "    <tr>\n",
       "      <th>15601</th>\n",
       "      <td>224.0</td>\n",
       "      <td>223.536850</td>\n",
       "    </tr>\n",
       "    <tr>\n",
       "      <th>7839</th>\n",
       "      <td>54.0</td>\n",
       "      <td>53.510136</td>\n",
       "    </tr>\n",
       "    <tr>\n",
       "      <th>4850</th>\n",
       "      <td>126.0</td>\n",
       "      <td>130.315918</td>\n",
       "    </tr>\n",
       "    <tr>\n",
       "      <th>4699</th>\n",
       "      <td>135.0</td>\n",
       "      <td>138.288666</td>\n",
       "    </tr>\n",
       "    <tr>\n",
       "      <th>...</th>\n",
       "      <td>...</td>\n",
       "      <td>...</td>\n",
       "    </tr>\n",
       "    <tr>\n",
       "      <th>21809</th>\n",
       "      <td>3.0</td>\n",
       "      <td>1.933705</td>\n",
       "    </tr>\n",
       "    <tr>\n",
       "      <th>19517</th>\n",
       "      <td>90.0</td>\n",
       "      <td>90.021584</td>\n",
       "    </tr>\n",
       "    <tr>\n",
       "      <th>28844</th>\n",
       "      <td>360.0</td>\n",
       "      <td>355.937714</td>\n",
       "    </tr>\n",
       "    <tr>\n",
       "      <th>3</th>\n",
       "      <td>90.0</td>\n",
       "      <td>86.163101</td>\n",
       "    </tr>\n",
       "    <tr>\n",
       "      <th>20585</th>\n",
       "      <td>96.0</td>\n",
       "      <td>97.850395</td>\n",
       "    </tr>\n",
       "  </tbody>\n",
       "</table>\n",
       "<p>5912 rows × 2 columns</p>\n",
       "</div>"
      ],
      "text/plain": [
       "       Actual   Predicted\n",
       "28260    10.0   10.122319\n",
       "15601   224.0  223.536850\n",
       "7839     54.0   53.510136\n",
       "4850    126.0  130.315918\n",
       "4699    135.0  138.288666\n",
       "...       ...         ...\n",
       "21809     3.0    1.933705\n",
       "19517    90.0   90.021584\n",
       "28844   360.0  355.937714\n",
       "3        90.0   86.163101\n",
       "20585    96.0   97.850395\n",
       "\n",
       "[5912 rows x 2 columns]"
      ]
     },
     "execution_count": 8,
     "metadata": {},
     "output_type": "execute_result"
    }
   ],
   "source": [
    "comparisonXGBOOST = pd.DataFrame({'Actual': y_test, 'Predicted': y_pred_xgb.flatten()})\n",
    "comparisonXGBOOST"
   ]
  },
  {
   "cell_type": "code",
   "execution_count": 9,
   "id": "1106870b-db60-40bd-817b-ce6f427d7fb4",
   "metadata": {},
   "outputs": [
    {
     "name": "stdout",
     "output_type": "stream",
     "text": [
      "  CNN Model Metrics:\n",
      "  Mean Absolute Error (MAE): 2.305426836013794\n",
      "  Mean Squared Error (MSE): 11.687928199768066\n",
      "  Root Mean Squared Error (RMSE): 3.4187612533569336\n",
      "  R^2 Score: 0.9995939637171247\n",
      "\n"
     ]
    }
   ],
   "source": [
    "mae, mse, rmse, r2 = calculate_metrics(y_test, y_pred_xgb)\n",
    "print(f\"  XGBOOST Model Metrics:\")\n",
    "print(f\"  Mean Absolute Error (MAE): {mae}\")\n",
    "print(f\"  Mean Squared Error (MSE): {mse}\")\n",
    "print(f\"  Root Mean Squared Error (RMSE): {rmse}\")\n",
    "print(f\"  R^2 Score: {r2}\\n\")"
   ]
  },
  {
   "cell_type": "code",
   "execution_count": 18,
   "id": "5236f078-b2ba-4d08-8280-2f95b04e70f8",
   "metadata": {},
   "outputs": [
    {
     "data": {
      "image/png": "[encoded data removed]",
      "text/plain": [
       "<Figure size 1400x700 with 1 Axes>"
      ]
     },
     "metadata": {},
     "output_type": "display_data"
    }
   ],
   "source": [
    "import matplotlib.pyplot as plt\n",
    "import seaborn as sns\n",
    "\n",
    "# Plotting the results\n",
    "plt.figure(figsize=(14, 7))\n",
    "\n",
    "# MLP Model\n",
    "plt.subplot(1, 1, 1)\n",
    "\n",
    "# Plot predicted values in blue\n",
    "sns.scatterplot(x=y_test, y=y_pred_xgb.flatten(), color='blue', label='Predicted')\n",
    "\n",
    "# Plot actual values in red\n",
    "sns.scatterplot(x=y_test, y=y_test, color='red', label='Actual')\n",
    "\n",
    "# Plot the identity line (45-degree line) for reference\n",
    "plt.plot([y_test.min(), y_test.max()], [y_test.min(), y_test.max()], 'k--', lw=2)\n",
    "\n",
    "# Labels and title\n",
    "plt.xlabel('Actual')\n",
    "plt.ylabel('Predicted')\n",
    "plt.title('XGBOOST Model')\n",
    "\n",
    "# Show legend\n",
    "plt.legend()\n",
    "\n",
    "# Add titles and layout adjustments\n",
    "plt.tight_layout()\n",
    "plt.show()"
   ]
  },
  {
   "cell_type": "code",
   "execution_count": null,
   "id": "dbcbb6bb-6d63-4085-99ac-5976c773c51c",
   "metadata": {},
   "outputs": [],
   "source": []
  }
 ],
 "metadata": {
  "kernelspec": {
   "display_name": "Python 3 (ipykernel)",
   "language": "python",
   "name": "python3"
  },
  "language_info": {
   "codemirror_mode": {
    "name": "ipython",
    "version": 3
   },
   "file_extension": ".py",
   "mimetype": "text/x-python",
   "name": "python",
   "nbconvert_exporter": "python",
   "pygments_lexer": "ipython3",
   "version": "3.11.7"
  }
 },
 "nbformat": 4,
 "nbformat_minor": 5
}
