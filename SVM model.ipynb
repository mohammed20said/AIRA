{
 "cells": [
  {
   "cell_type": "code",
   "execution_count": 1,
   "id": "fa5ee350-3095-49b2-9a59-65cb5f1ee92e",
   "metadata": {},
   "outputs": [],
   "source": [
    "import pandas as pd \n",
    "import numpy as np\n",
    "from sklearn.model_selection import train_test_split\n",
    "import tensorflow as tf\n",
    "from tensorflow.keras.models import Sequential\n",
    "from sklearn.svm import SVR\n",
    "import matplotlib.pyplot as plt\n",
    "import seaborn as sns\n",
    "from sklearn.metrics import mean_absolute_error, mean_squared_error, r2_score"
   ]
  },
  {
   "cell_type": "code",
   "execution_count": 2,
   "id": "2eb1ee9a-6bcc-49d0-95de-3e6b04f8ed50",
   "metadata": {},
   "outputs": [],
   "source": [
    "# Calculate metrics\n",
    "def calculate_metrics(y_true, y_pred):\n",
    "    mae = mean_absolute_error(y_true, y_pred)\n",
    "    mse = mean_squared_error(y_true, y_pred)\n",
    "    rmse = np.sqrt(mse)\n",
    "    r2 = r2_score(y_true, y_pred)\n",
    "    return mae, mse, rmse, r2"
   ]
  },
  {
   "cell_type": "code",
   "execution_count": 3,
   "id": "0ed60ddd-b6f7-4aa8-a999-e0786aae9dca",
   "metadata": {},
   "outputs": [
    {
     "data": {
      "text/html": [
       "<div>\n",
       "<style scoped>\n",
       "    .dataframe tbody tr th:only-of-type {\n",
       "        vertical-align: middle;\n",
       "    }\n",
       "\n",
       "    .dataframe tbody tr th {\n",
       "        vertical-align: top;\n",
       "    }\n",
       "\n",
       "    .dataframe thead th {\n",
       "        text-align: right;\n",
       "    }\n",
       "</style>\n",
       "<table border=\"1\" class=\"dataframe\">\n",
       "  <thead>\n",
       "    <tr style=\"text-align: right;\">\n",
       "      <th></th>\n",
       "      <th>Field of activity</th>\n",
       "      <th>Process / Machine / Equipement</th>\n",
       "      <th>Risk Related</th>\n",
       "      <th>Risk Causes</th>\n",
       "      <th>Risk Effects</th>\n",
       "      <th>Severity (1-10)</th>\n",
       "      <th>Occurrence (1-10)</th>\n",
       "      <th>Impact (1-10)</th>\n",
       "      <th>Criticality (Severity * Occurrence * Impact)</th>\n",
       "    </tr>\n",
       "  </thead>\n",
       "  <tbody>\n",
       "    <tr>\n",
       "      <th>0</th>\n",
       "      <td>Office administrative / support/ other busines...</td>\n",
       "      <td>Production</td>\n",
       "      <td>Operator error</td>\n",
       "      <td>Insufficient training</td>\n",
       "      <td>Damage to machinery</td>\n",
       "      <td>7</td>\n",
       "      <td>8</td>\n",
       "      <td>9</td>\n",
       "      <td>504</td>\n",
       "    </tr>\n",
       "    <tr>\n",
       "      <th>1</th>\n",
       "      <td>Automotive industry</td>\n",
       "      <td>Production</td>\n",
       "      <td>Improper use of extension cords</td>\n",
       "      <td>Overloading, improper connections</td>\n",
       "      <td>Fire, equipment damage</td>\n",
       "      <td>4</td>\n",
       "      <td>7</td>\n",
       "      <td>10</td>\n",
       "      <td>280</td>\n",
       "    </tr>\n",
       "    <tr>\n",
       "      <th>2</th>\n",
       "      <td>Dyeing of textile and clothing</td>\n",
       "      <td>Management</td>\n",
       "      <td>Leadership turnover</td>\n",
       "      <td>High executive turnover</td>\n",
       "      <td>Decreased morale</td>\n",
       "      <td>8</td>\n",
       "      <td>5</td>\n",
       "      <td>1</td>\n",
       "      <td>40</td>\n",
       "    </tr>\n",
       "    <tr>\n",
       "      <th>3</th>\n",
       "      <td>Financial services incl. Insurance business</td>\n",
       "      <td>Production</td>\n",
       "      <td>Calibration errors</td>\n",
       "      <td>Poor calibration practices</td>\n",
       "      <td>Inconsistent product quality</td>\n",
       "      <td>5</td>\n",
       "      <td>6</td>\n",
       "      <td>3</td>\n",
       "      <td>90</td>\n",
       "    </tr>\n",
       "    <tr>\n",
       "      <th>4</th>\n",
       "      <td>Actitivities of membership organisations</td>\n",
       "      <td>Compliance</td>\n",
       "      <td>Non-compliance with labor laws</td>\n",
       "      <td>Lack of awareness</td>\n",
       "      <td>Legal penalties</td>\n",
       "      <td>7</td>\n",
       "      <td>4</td>\n",
       "      <td>7</td>\n",
       "      <td>196</td>\n",
       "    </tr>\n",
       "  </tbody>\n",
       "</table>\n",
       "</div>"
      ],
      "text/plain": [
       "                                   Field of activity  \\\n",
       "0  Office administrative / support/ other busines...   \n",
       "1                                Automotive industry   \n",
       "2                     Dyeing of textile and clothing   \n",
       "3        Financial services incl. Insurance business   \n",
       "4           Actitivities of membership organisations   \n",
       "\n",
       "  Process / Machine / Equipement                     Risk Related  \\\n",
       "0                     Production                   Operator error   \n",
       "1                     Production  Improper use of extension cords   \n",
       "2                     Management              Leadership turnover   \n",
       "3                     Production               Calibration errors   \n",
       "4                     Compliance   Non-compliance with labor laws   \n",
       "\n",
       "                         Risk Causes                  Risk Effects  \\\n",
       "0              Insufficient training           Damage to machinery   \n",
       "1  Overloading, improper connections        Fire, equipment damage   \n",
       "2            High executive turnover              Decreased morale   \n",
       "3         Poor calibration practices  Inconsistent product quality   \n",
       "4                  Lack of awareness               Legal penalties   \n",
       "\n",
       "   Severity (1-10)  Occurrence (1-10)  Impact (1-10)  \\\n",
       "0                7                  8              9   \n",
       "1                4                  7             10   \n",
       "2                8                  5              1   \n",
       "3                5                  6              3   \n",
       "4                7                  4              7   \n",
       "\n",
       "   Criticality (Severity * Occurrence * Impact)  \n",
       "0                                           504  \n",
       "1                                           280  \n",
       "2                                            40  \n",
       "3                                            90  \n",
       "4                                           196  "
      ]
     },
     "execution_count": 3,
     "metadata": {},
     "output_type": "execute_result"
    }
   ],
   "source": [
    "df = pd.read_excel('data_Finel.xlsx')\n",
    "df.head()"
   ]
  },
  {
   "cell_type": "code",
   "execution_count": 4,
   "id": "d9cfbb1b-ab14-47b7-b028-e96e6587f899",
   "metadata": {},
   "outputs": [],
   "source": [
    "# Encode categorical variables using one-hot encoding\n",
    "df_encoded = pd.get_dummies(df, columns=[\n",
    "    'Field of activity', 'Process / Machine / Equipement', 'Risk Related', 'Risk Causes', 'Risk Effects'\n",
    "])\n",
    "\n",
    "# Separate features and target\n",
    "X = df_encoded.drop(columns=['Criticality (Severity * Occurrence * Impact)'])\n",
    "y = df_encoded['Criticality (Severity * Occurrence * Impact)']"
   ]
  },
  {
   "cell_type": "code",
   "execution_count": 5,
   "id": "6a2cc6e6-7880-4981-b54e-dd1cf39fea54",
   "metadata": {},
   "outputs": [],
   "source": [
    "# Split the data into training and testing sets\n",
    "X_train, X_test, y_train, y_test = train_test_split(X, y, test_size=0.2, random_state=42)\n",
    "X_train = X_train.astype('float32')\n",
    "X_test = X_test.astype('float32')\n",
    "y_train = y_train.astype('float32')\n",
    "y_test = y_test.astype('float32')"
   ]
  },
  {
   "cell_type": "code",
   "execution_count": 6,
   "id": "2b8ae888-5500-4861-9915-ac1fef0df2d8",
   "metadata": {},
   "outputs": [],
   "source": [
    "# Initialize and train the model\n",
    "svm_model = SVR(kernel='rbf')\n",
    "svm_model.fit(X_train, y_train)\n",
    "\n",
    "# Make predictions\n",
    "y_pred_svm = svm_model.predict(X_test)\n",
    "\n",
    "# Evaluate the model\n",
    "mae_svm = mean_absolute_error(y_test, y_pred_svm)"
   ]
  },
  {
   "cell_type": "code",
   "execution_count": 7,
   "id": "cee9322b-5794-496b-9753-48bbc1a36e16",
   "metadata": {},
   "outputs": [
    {
     "data": {
      "text/plain": [
       "11.277309954841472"
      ]
     },
     "execution_count": 7,
     "metadata": {},
     "output_type": "execute_result"
    }
   ],
   "source": [
    "mae_svm"
   ]
  },
  {
   "cell_type": "code",
   "execution_count": 8,
   "id": "d670bbe0-e286-456b-956a-20899a8c64c1",
   "metadata": {},
   "outputs": [
    {
     "data": {
      "text/html": [
       "<div>\n",
       "<style scoped>\n",
       "    .dataframe tbody tr th:only-of-type {\n",
       "        vertical-align: middle;\n",
       "    }\n",
       "\n",
       "    .dataframe tbody tr th {\n",
       "        vertical-align: top;\n",
       "    }\n",
       "\n",
       "    .dataframe thead th {\n",
       "        text-align: right;\n",
       "    }\n",
       "</style>\n",
       "<table border=\"1\" class=\"dataframe\">\n",
       "  <thead>\n",
       "    <tr style=\"text-align: right;\">\n",
       "      <th></th>\n",
       "      <th>Actual</th>\n",
       "      <th>Predicted</th>\n",
       "    </tr>\n",
       "  </thead>\n",
       "  <tbody>\n",
       "    <tr>\n",
       "      <th>28260</th>\n",
       "      <td>10.0</td>\n",
       "      <td>10.772726</td>\n",
       "    </tr>\n",
       "    <tr>\n",
       "      <th>15601</th>\n",
       "      <td>224.0</td>\n",
       "      <td>229.560383</td>\n",
       "    </tr>\n",
       "    <tr>\n",
       "      <th>7839</th>\n",
       "      <td>54.0</td>\n",
       "      <td>66.970353</td>\n",
       "    </tr>\n",
       "    <tr>\n",
       "      <th>4850</th>\n",
       "      <td>126.0</td>\n",
       "      <td>136.507166</td>\n",
       "    </tr>\n",
       "    <tr>\n",
       "      <th>4699</th>\n",
       "      <td>135.0</td>\n",
       "      <td>134.544632</td>\n",
       "    </tr>\n",
       "    <tr>\n",
       "      <th>...</th>\n",
       "      <td>...</td>\n",
       "      <td>...</td>\n",
       "    </tr>\n",
       "    <tr>\n",
       "      <th>21809</th>\n",
       "      <td>3.0</td>\n",
       "      <td>17.234394</td>\n",
       "    </tr>\n",
       "    <tr>\n",
       "      <th>19517</th>\n",
       "      <td>90.0</td>\n",
       "      <td>85.854190</td>\n",
       "    </tr>\n",
       "    <tr>\n",
       "      <th>28844</th>\n",
       "      <td>360.0</td>\n",
       "      <td>349.377458</td>\n",
       "    </tr>\n",
       "    <tr>\n",
       "      <th>3</th>\n",
       "      <td>90.0</td>\n",
       "      <td>87.829489</td>\n",
       "    </tr>\n",
       "    <tr>\n",
       "      <th>20585</th>\n",
       "      <td>96.0</td>\n",
       "      <td>93.770389</td>\n",
       "    </tr>\n",
       "  </tbody>\n",
       "</table>\n",
       "<p>5912 rows × 2 columns</p>\n",
       "</div>"
      ],
      "text/plain": [
       "       Actual   Predicted\n",
       "28260    10.0   10.772726\n",
       "15601   224.0  229.560383\n",
       "7839     54.0   66.970353\n",
       "4850    126.0  136.507166\n",
       "4699    135.0  134.544632\n",
       "...       ...         ...\n",
       "21809     3.0   17.234394\n",
       "19517    90.0   85.854190\n",
       "28844   360.0  349.377458\n",
       "3        90.0   87.829489\n",
       "20585    96.0   93.770389\n",
       "\n",
       "[5912 rows x 2 columns]"
      ]
     },
     "execution_count": 8,
     "metadata": {},
     "output_type": "execute_result"
    }
   ],
   "source": [
    "comparisonSVM = pd.DataFrame({'Actual': y_test, 'Predicted': y_pred_svm.flatten()})\n",
    "comparisonSVM"
   ]
  },
  {
   "cell_type": "code",
   "execution_count": 9,
   "id": "0c758097-3f62-46b3-b219-f11dcc6f83c5",
   "metadata": {},
   "outputs": [
    {
     "name": "stdout",
     "output_type": "stream",
     "text": [
      "  SVM Model Metrics:\n",
      "  Mean Absolute Error (MAE): 11.277309954841472\n",
      "  Mean Squared Error (MSE): 735.0629741789459\n",
      "  Root Mean Squared Error (RMSE): 27.112044817367536\n",
      "  R^2 Score: 0.9744640594451143\n",
      "\n"
     ]
    }
   ],
   "source": [
    "mae, mse, rmse, r2 = calculate_metrics(y_test, y_pred_svm)\n",
    "print(f\"  SVM Model Metrics:\")\n",
    "print(f\"  Mean Absolute Error (MAE): {mae}\")\n",
    "print(f\"  Mean Squared Error (MSE): {mse}\")\n",
    "print(f\"  Root Mean Squared Error (RMSE): {rmse}\")\n",
    "print(f\"  R^2 Score: {r2}\\n\")"
   ]
  },
  {
   "cell_type": "code",
   "execution_count": 12,
   "id": "00fcdd82-197d-414c-a94d-637449360e8b",
   "metadata": {},
   "outputs": [
    {
     "data": {
      "image/png": "[encoded data removed]",
      "text/plain": [
       "<Figure size 1400x700 with 1 Axes>"
      ]
     },
     "metadata": {},
     "output_type": "display_data"
    }
   ],
   "source": [
    "import matplotlib.pyplot as plt\n",
    "import seaborn as sns\n",
    "\n",
    "# Plotting the results\n",
    "plt.figure(figsize=(14, 7))\n",
    "\n",
    "# MLP Model\n",
    "plt.subplot(1, 1, 1)\n",
    "\n",
    "# Plot predicted values in blue\n",
    "sns.scatterplot(x=y_test, y=y_pred_svm.flatten(), color='blue', label='Predicted')\n",
    "\n",
    "# Plot actual values in red\n",
    "sns.scatterplot(x=y_test, y=y_test, color='red', label='Actual')\n",
    "\n",
    "# Plot the identity line (45-degree line) for reference\n",
    "plt.plot([y_test.min(), y_test.max()], [y_test.min(), y_test.max()], 'k--', lw=2)\n",
    "\n",
    "# Labels and title\n",
    "plt.xlabel('Actual')\n",
    "plt.ylabel('Predicted')\n",
    "plt.title('SVM Model')\n",
    "\n",
    "# Show legend\n",
    "plt.legend()\n",
    "\n",
    "# Add titles and layout adjustments\n",
    "plt.tight_layout()\n",
    "plt.show()"
   ]
  },
  {
   "cell_type": "code",
   "execution_count": null,
   "id": "3281e409-aa89-4e79-848d-43e1ab65f460",
   "metadata": {},
   "outputs": [],
   "source": []
  }
 ],
 "metadata": {
  "kernelspec": {
   "display_name": "Python 3 (ipykernel)",
   "language": "python",
   "name": "python3"
  },
  "language_info": {
   "codemirror_mode": {
    "name": "ipython",
    "version": 3
   },
   "file_extension": ".py",
   "mimetype": "text/x-python",
   "name": "python",
   "nbconvert_exporter": "python",
   "pygments_lexer": "ipython3",
   "version": "3.11.7"
  }
 },
 "nbformat": 4,
 "nbformat_minor": 5
}
