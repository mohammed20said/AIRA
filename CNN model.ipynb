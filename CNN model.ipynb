{
 "cells": [
  {
   "cell_type": "code",
   "execution_count": 1,
   "id": "937e0841-e934-425d-bd4b-9f2ba71dd40c",
   "metadata": {},
   "outputs": [],
   "source": [
    "import pandas as pd \n",
    "import numpy as np\n",
    "from sklearn.model_selection import train_test_split\n",
    "import tensorflow as tf\n",
    "from tensorflow.keras.models import Sequential\n",
    "from tensorflow.keras.layers import Conv1D, Flatten, Dense, Dropout, MaxPooling1D\n",
    "import matplotlib.pyplot as plt\n",
    "import seaborn as sns\n",
    "from sklearn.metrics import mean_absolute_error, mean_squared_error, r2_score"
   ]
  },
  {
   "cell_type": "code",
   "execution_count": 2,
   "id": "a203c080-342a-45e6-bc30-56804539f022",
   "metadata": {},
   "outputs": [],
   "source": [
    "# Calculate metrics\n",
    "def calculate_metrics(y_true, y_pred):\n",
    "    mae = mean_absolute_error(y_true, y_pred)\n",
    "    mse = mean_squared_error(y_true, y_pred)\n",
    "    rmse = np.sqrt(mse)\n",
    "    r2 = r2_score(y_true, y_pred)\n",
    "    return mae, mse, rmse, r2"
   ]
  },
  {
   "cell_type": "code",
   "execution_count": 3,
   "id": "88d9337c-5dbf-413b-9bb3-1584b5ea7f1c",
   "metadata": {},
   "outputs": [
    {
     "data": {
      "text/html": [
       "<div>\n",
       "<style scoped>\n",
       "    .dataframe tbody tr th:only-of-type {\n",
       "        vertical-align: middle;\n",
       "    }\n",
       "\n",
       "    .dataframe tbody tr th {\n",
       "        vertical-align: top;\n",
       "    }\n",
       "\n",
       "    .dataframe thead th {\n",
       "        text-align: right;\n",
       "    }\n",
       "</style>\n",
       "<table border=\"1\" class=\"dataframe\">\n",
       "  <thead>\n",
       "    <tr style=\"text-align: right;\">\n",
       "      <th></th>\n",
       "      <th>Field of activity</th>\n",
       "      <th>Process / Machine / Equipement</th>\n",
       "      <th>Risk Related</th>\n",
       "      <th>Risk Causes</th>\n",
       "      <th>Risk Effects</th>\n",
       "      <th>Severity (1-10)</th>\n",
       "      <th>Occurrence (1-10)</th>\n",
       "      <th>Impact (1-10)</th>\n",
       "      <th>Criticality (Severity * Occurrence * Impact)</th>\n",
       "    </tr>\n",
       "  </thead>\n",
       "  <tbody>\n",
       "    <tr>\n",
       "      <th>0</th>\n",
       "      <td>Office administrative / support/ other busines...</td>\n",
       "      <td>Production</td>\n",
       "      <td>Operator error</td>\n",
       "      <td>Insufficient training</td>\n",
       "      <td>Damage to machinery</td>\n",
       "      <td>7</td>\n",
       "      <td>8</td>\n",
       "      <td>9</td>\n",
       "      <td>504</td>\n",
       "    </tr>\n",
       "    <tr>\n",
       "      <th>1</th>\n",
       "      <td>Automotive industry</td>\n",
       "      <td>Production</td>\n",
       "      <td>Improper use of extension cords</td>\n",
       "      <td>Overloading, improper connections</td>\n",
       "      <td>Fire, equipment damage</td>\n",
       "      <td>4</td>\n",
       "      <td>7</td>\n",
       "      <td>10</td>\n",
       "      <td>280</td>\n",
       "    </tr>\n",
       "    <tr>\n",
       "      <th>2</th>\n",
       "      <td>Dyeing of textile and clothing</td>\n",
       "      <td>Management</td>\n",
       "      <td>Leadership turnover</td>\n",
       "      <td>High executive turnover</td>\n",
       "      <td>Decreased morale</td>\n",
       "      <td>8</td>\n",
       "      <td>5</td>\n",
       "      <td>1</td>\n",
       "      <td>40</td>\n",
       "    </tr>\n",
       "    <tr>\n",
       "      <th>3</th>\n",
       "      <td>Financial services incl. Insurance business</td>\n",
       "      <td>Production</td>\n",
       "      <td>Calibration errors</td>\n",
       "      <td>Poor calibration practices</td>\n",
       "      <td>Inconsistent product quality</td>\n",
       "      <td>5</td>\n",
       "      <td>6</td>\n",
       "      <td>3</td>\n",
       "      <td>90</td>\n",
       "    </tr>\n",
       "    <tr>\n",
       "      <th>4</th>\n",
       "      <td>Actitivities of membership organisations</td>\n",
       "      <td>Compliance</td>\n",
       "      <td>Non-compliance with labor laws</td>\n",
       "      <td>Lack of awareness</td>\n",
       "      <td>Legal penalties</td>\n",
       "      <td>7</td>\n",
       "      <td>4</td>\n",
       "      <td>7</td>\n",
       "      <td>196</td>\n",
       "    </tr>\n",
       "  </tbody>\n",
       "</table>\n",
       "</div>"
      ],
      "text/plain": [
       "                                   Field of activity  \\\n",
       "0  Office administrative / support/ other busines...   \n",
       "1                                Automotive industry   \n",
       "2                     Dyeing of textile and clothing   \n",
       "3        Financial services incl. Insurance business   \n",
       "4           Actitivities of membership organisations   \n",
       "\n",
       "  Process / Machine / Equipement                     Risk Related  \\\n",
       "0                     Production                   Operator error   \n",
       "1                     Production  Improper use of extension cords   \n",
       "2                     Management              Leadership turnover   \n",
       "3                     Production               Calibration errors   \n",
       "4                     Compliance   Non-compliance with labor laws   \n",
       "\n",
       "                         Risk Causes                  Risk Effects  \\\n",
       "0              Insufficient training           Damage to machinery   \n",
       "1  Overloading, improper connections        Fire, equipment damage   \n",
       "2            High executive turnover              Decreased morale   \n",
       "3         Poor calibration practices  Inconsistent product quality   \n",
       "4                  Lack of awareness               Legal penalties   \n",
       "\n",
       "   Severity (1-10)  Occurrence (1-10)  Impact (1-10)  \\\n",
       "0                7                  8              9   \n",
       "1                4                  7             10   \n",
       "2                8                  5              1   \n",
       "3                5                  6              3   \n",
       "4                7                  4              7   \n",
       "\n",
       "   Criticality (Severity * Occurrence * Impact)  \n",
       "0                                           504  \n",
       "1                                           280  \n",
       "2                                            40  \n",
       "3                                            90  \n",
       "4                                           196  "
      ]
     },
     "execution_count": 3,
     "metadata": {},
     "output_type": "execute_result"
    }
   ],
   "source": [
    "df = pd.read_excel('data_Finel.xlsx')\n",
    "df.head()"
   ]
  },
  {
   "cell_type": "code",
   "execution_count": 4,
   "id": "151aea56-77f6-41aa-92a3-11f206f8146b",
   "metadata": {},
   "outputs": [],
   "source": [
    "# Encode categorical variables using one-hot encoding\n",
    "df_encoded = pd.get_dummies(df, columns=[\n",
    "    'Field of activity', 'Process / Machine / Equipement', 'Risk Related', 'Risk Causes', 'Risk Effects'\n",
    "])\n",
    "\n",
    "# Separate features and target\n",
    "X = df_encoded.drop(columns=['Criticality (Severity * Occurrence * Impact)'])\n",
    "y = df_encoded['Criticality (Severity * Occurrence * Impact)']"
   ]
  },
  {
   "cell_type": "code",
   "execution_count": 16,
   "id": "cd352a7f-7436-4165-91c5-612705b8480c",
   "metadata": {},
   "outputs": [],
   "source": [
    "import pickle\n",
    "with open('encoder_columns.pkl', 'wb') as f:\n",
    "    pickle.dump(df_encoded.columns.tolist(), f)"
   ]
  },
  {
   "cell_type": "code",
   "execution_count": 5,
   "id": "6bc9b55e-b997-488b-9eba-52ef02ad3d3a",
   "metadata": {},
   "outputs": [],
   "source": [
    "# Split the data into training and testing sets\n",
    "X_train, X_test, y_train, y_test = train_test_split(X, y, test_size=0.2, random_state=42)\n",
    "X_train = X_train.astype('float32')\n",
    "X_test = X_test.astype('float32')\n",
    "y_train = y_train.astype('float32')\n",
    "y_test = y_test.astype('float32')"
   ]
  },
  {
   "cell_type": "code",
   "execution_count": 6,
   "id": "c4e88d81-bb42-4085-b3e9-b5e9d4158e75",
   "metadata": {},
   "outputs": [
    {
     "name": "stderr",
     "output_type": "stream",
     "text": [
      "C:\\Users\\MOHAMMED SAID\\AppData\\Roaming\\Python\\Python311\\site-packages\\keras\\src\\layers\\convolutional\\base_conv.py:107: UserWarning: Do not pass an `input_shape`/`input_dim` argument to a layer. When using Sequential models, prefer using an `Input(shape)` object as the first layer in the model instead.\n",
      "  super().__init__(activity_regularizer=activity_regularizer, **kwargs)\n"
     ]
    }
   ],
   "source": [
    "# Define the model\n",
    "cnn_model = Sequential([\n",
    "    Conv1D(filters=64, kernel_size=2, activation='relu', input_shape=(X_train.shape[1], 1)),\n",
    "    MaxPooling1D(pool_size=2),\n",
    "    Dropout(0.2),\n",
    "    Conv1D(filters=32, kernel_size=2, activation='relu'),\n",
    "    MaxPooling1D(pool_size=2),\n",
    "    Dropout(0.2),\n",
    "    Flatten(),\n",
    "    Dense(64, activation='relu'),\n",
    "    Dense(32, activation='relu'),\n",
    "    Dense(1)  # Output layer for regression\n",
    "])"
   ]
  },
  {
   "cell_type": "code",
   "execution_count": 7,
   "id": "20fb563d-0579-43cb-913e-f0ea3031952e",
   "metadata": {},
   "outputs": [],
   "source": [
    "cnn_model.compile(optimizer='adam', loss='mean_squared_error')"
   ]
  },
  {
   "cell_type": "code",
   "execution_count": 8,
   "id": "98af018d-1c2d-4cb7-883e-36b914a3499f",
   "metadata": {},
   "outputs": [],
   "source": [
    "# Reshape the input data to fit the model\n",
    "X_train_reshaped = X_train.values.reshape((X_train.shape[0], X_train.shape[1], 1))\n",
    "X_test_reshaped = X_test.values.reshape((X_test.shape[0], X_test.shape[1], 1))"
   ]
  },
  {
   "cell_type": "code",
   "execution_count": 9,
   "id": "e0ee270a-90a4-4183-a4b4-e1f59f0ae13d",
   "metadata": {},
   "outputs": [
    {
     "name": "stdout",
     "output_type": "stream",
     "text": [
      "Epoch 1/50\n",
      "\u001b[1m592/592\u001b[0m \u001b[32m━━━━━━━━━━━━━━━━━━━━\u001b[0m\u001b[37m\u001b[0m \u001b[1m17s\u001b[0m 24ms/step - loss: 30857.3691 - val_loss: 6405.8535\n",
      "Epoch 2/50\n",
      "\u001b[1m592/592\u001b[0m \u001b[32m━━━━━━━━━━━━━━━━━━━━\u001b[0m\u001b[37m\u001b[0m \u001b[1m14s\u001b[0m 24ms/step - loss: 8542.6416 - val_loss: 2795.6416\n",
      "Epoch 3/50\n",
      "\u001b[1m592/592\u001b[0m \u001b[32m━━━━━━━━━━━━━━━━━━━━\u001b[0m\u001b[37m\u001b[0m \u001b[1m14s\u001b[0m 24ms/step - loss: 6880.4917 - val_loss: 3317.9165\n",
      "Epoch 4/50\n",
      "\u001b[1m592/592\u001b[0m \u001b[32m━━━━━━━━━━━━━━━━━━━━\u001b[0m\u001b[37m\u001b[0m \u001b[1m14s\u001b[0m 24ms/step - loss: 6574.4141 - val_loss: 2164.6628\n",
      "Epoch 5/50\n",
      "\u001b[1m592/592\u001b[0m \u001b[32m━━━━━━━━━━━━━━━━━━━━\u001b[0m\u001b[37m\u001b[0m \u001b[1m13s\u001b[0m 22ms/step - loss: 5818.2012 - val_loss: 2142.6489\n",
      "Epoch 6/50\n",
      "\u001b[1m592/592\u001b[0m \u001b[32m━━━━━━━━━━━━━━━━━━━━\u001b[0m\u001b[37m\u001b[0m \u001b[1m21s\u001b[0m 22ms/step - loss: 5355.3892 - val_loss: 2073.6685\n",
      "Epoch 7/50\n",
      "\u001b[1m592/592\u001b[0m \u001b[32m━━━━━━━━━━━━━━━━━━━━\u001b[0m\u001b[37m\u001b[0m \u001b[1m20s\u001b[0m 21ms/step - loss: 4785.6641 - val_loss: 1412.8315\n",
      "Epoch 8/50\n",
      "\u001b[1m592/592\u001b[0m \u001b[32m━━━━━━━━━━━━━━━━━━━━\u001b[0m\u001b[37m\u001b[0m \u001b[1m15s\u001b[0m 26ms/step - loss: 4734.7725 - val_loss: 1789.3978\n",
      "Epoch 9/50\n",
      "\u001b[1m592/592\u001b[0m \u001b[32m━━━━━━━━━━━━━━━━━━━━\u001b[0m\u001b[37m\u001b[0m \u001b[1m13s\u001b[0m 22ms/step - loss: 3986.8135 - val_loss: 1274.0693\n",
      "Epoch 10/50\n",
      "\u001b[1m592/592\u001b[0m \u001b[32m━━━━━━━━━━━━━━━━━━━━\u001b[0m\u001b[37m\u001b[0m \u001b[1m13s\u001b[0m 22ms/step - loss: 4061.7380 - val_loss: 1272.7849\n",
      "Epoch 11/50\n",
      "\u001b[1m592/592\u001b[0m \u001b[32m━━━━━━━━━━━━━━━━━━━━\u001b[0m\u001b[37m\u001b[0m \u001b[1m12s\u001b[0m 20ms/step - loss: 3771.2310 - val_loss: 935.3891\n",
      "Epoch 12/50\n",
      "\u001b[1m592/592\u001b[0m \u001b[32m━━━━━━━━━━━━━━━━━━━━\u001b[0m\u001b[37m\u001b[0m \u001b[1m13s\u001b[0m 22ms/step - loss: 3472.2163 - val_loss: 1071.1307\n",
      "Epoch 13/50\n",
      "\u001b[1m592/592\u001b[0m \u001b[32m━━━━━━━━━━━━━━━━━━━━\u001b[0m\u001b[37m\u001b[0m \u001b[1m14s\u001b[0m 23ms/step - loss: 3276.2305 - val_loss: 1528.1029\n",
      "Epoch 14/50\n",
      "\u001b[1m592/592\u001b[0m \u001b[32m━━━━━━━━━━━━━━━━━━━━\u001b[0m\u001b[37m\u001b[0m \u001b[1m12s\u001b[0m 20ms/step - loss: 3195.4187 - val_loss: 1857.9835\n",
      "Epoch 15/50\n",
      "\u001b[1m592/592\u001b[0m \u001b[32m━━━━━━━━━━━━━━━━━━━━\u001b[0m\u001b[37m\u001b[0m \u001b[1m13s\u001b[0m 21ms/step - loss: 3055.0803 - val_loss: 1030.3427\n",
      "Epoch 16/50\n",
      "\u001b[1m592/592\u001b[0m \u001b[32m━━━━━━━━━━━━━━━━━━━━\u001b[0m\u001b[37m\u001b[0m \u001b[1m12s\u001b[0m 21ms/step - loss: 3235.7346 - val_loss: 954.6831\n",
      "Epoch 17/50\n",
      "\u001b[1m592/592\u001b[0m \u001b[32m━━━━━━━━━━━━━━━━━━━━\u001b[0m\u001b[37m\u001b[0m \u001b[1m14s\u001b[0m 24ms/step - loss: 2907.0957 - val_loss: 691.7009\n",
      "Epoch 18/50\n",
      "\u001b[1m592/592\u001b[0m \u001b[32m━━━━━━━━━━━━━━━━━━━━\u001b[0m\u001b[37m\u001b[0m \u001b[1m15s\u001b[0m 25ms/step - loss: 2362.7559 - val_loss: 1066.4164\n",
      "Epoch 19/50\n",
      "\u001b[1m592/592\u001b[0m \u001b[32m━━━━━━━━━━━━━━━━━━━━\u001b[0m\u001b[37m\u001b[0m \u001b[1m14s\u001b[0m 24ms/step - loss: 2215.9607 - val_loss: 628.0379\n",
      "Epoch 20/50\n",
      "\u001b[1m592/592\u001b[0m \u001b[32m━━━━━━━━━━━━━━━━━━━━\u001b[0m\u001b[37m\u001b[0m \u001b[1m16s\u001b[0m 27ms/step - loss: 2167.6348 - val_loss: 802.9062\n",
      "Epoch 21/50\n",
      "\u001b[1m592/592\u001b[0m \u001b[32m━━━━━━━━━━━━━━━━━━━━\u001b[0m\u001b[37m\u001b[0m \u001b[1m17s\u001b[0m 28ms/step - loss: 1995.5314 - val_loss: 717.7466\n",
      "Epoch 22/50\n",
      "\u001b[1m592/592\u001b[0m \u001b[32m━━━━━━━━━━━━━━━━━━━━\u001b[0m\u001b[37m\u001b[0m \u001b[1m16s\u001b[0m 28ms/step - loss: 1930.8289 - val_loss: 620.6911\n",
      "Epoch 23/50\n",
      "\u001b[1m592/592\u001b[0m \u001b[32m━━━━━━━━━━━━━━━━━━━━\u001b[0m\u001b[37m\u001b[0m \u001b[1m16s\u001b[0m 27ms/step - loss: 1932.8529 - val_loss: 931.4762\n",
      "Epoch 24/50\n",
      "\u001b[1m592/592\u001b[0m \u001b[32m━━━━━━━━━━━━━━━━━━━━\u001b[0m\u001b[37m\u001b[0m \u001b[1m17s\u001b[0m 29ms/step - loss: 1892.4701 - val_loss: 607.8068\n",
      "Epoch 25/50\n",
      "\u001b[1m592/592\u001b[0m \u001b[32m━━━━━━━━━━━━━━━━━━━━\u001b[0m\u001b[37m\u001b[0m \u001b[1m17s\u001b[0m 29ms/step - loss: 1913.3031 - val_loss: 902.9225\n",
      "Epoch 26/50\n",
      "\u001b[1m592/592\u001b[0m \u001b[32m━━━━━━━━━━━━━━━━━━━━\u001b[0m\u001b[37m\u001b[0m \u001b[1m16s\u001b[0m 27ms/step - loss: 1868.8760 - val_loss: 718.8773\n",
      "Epoch 27/50\n",
      "\u001b[1m592/592\u001b[0m \u001b[32m━━━━━━━━━━━━━━━━━━━━\u001b[0m\u001b[37m\u001b[0m \u001b[1m21s\u001b[0m 28ms/step - loss: 1808.1200 - val_loss: 593.1293\n",
      "Epoch 28/50\n",
      "\u001b[1m592/592\u001b[0m \u001b[32m━━━━━━━━━━━━━━━━━━━━\u001b[0m\u001b[37m\u001b[0m \u001b[1m17s\u001b[0m 29ms/step - loss: 1809.9572 - val_loss: 1771.6211\n",
      "Epoch 29/50\n",
      "\u001b[1m592/592\u001b[0m \u001b[32m━━━━━━━━━━━━━━━━━━━━\u001b[0m\u001b[37m\u001b[0m \u001b[1m16s\u001b[0m 28ms/step - loss: 1724.8528 - val_loss: 1700.8179\n",
      "Epoch 30/50\n",
      "\u001b[1m592/592\u001b[0m \u001b[32m━━━━━━━━━━━━━━━━━━━━\u001b[0m\u001b[37m\u001b[0m \u001b[1m21s\u001b[0m 28ms/step - loss: 1727.6353 - val_loss: 885.2284\n",
      "Epoch 31/50\n",
      "\u001b[1m592/592\u001b[0m \u001b[32m━━━━━━━━━━━━━━━━━━━━\u001b[0m\u001b[37m\u001b[0m \u001b[1m16s\u001b[0m 27ms/step - loss: 1753.7026 - val_loss: 1933.7302\n",
      "Epoch 32/50\n",
      "\u001b[1m592/592\u001b[0m \u001b[32m━━━━━━━━━━━━━━━━━━━━\u001b[0m\u001b[37m\u001b[0m \u001b[1m16s\u001b[0m 27ms/step - loss: 1695.4214 - val_loss: 1651.2952\n",
      "Epoch 33/50\n",
      "\u001b[1m592/592\u001b[0m \u001b[32m━━━━━━━━━━━━━━━━━━━━\u001b[0m\u001b[37m\u001b[0m \u001b[1m14s\u001b[0m 24ms/step - loss: 1622.0852 - val_loss: 3336.0750\n",
      "Epoch 34/50\n",
      "\u001b[1m592/592\u001b[0m \u001b[32m━━━━━━━━━━━━━━━━━━━━\u001b[0m\u001b[37m\u001b[0m \u001b[1m14s\u001b[0m 24ms/step - loss: 1671.8401 - val_loss: 1761.7109\n",
      "Epoch 35/50\n",
      "\u001b[1m592/592\u001b[0m \u001b[32m━━━━━━━━━━━━━━━━━━━━\u001b[0m\u001b[37m\u001b[0m \u001b[1m14s\u001b[0m 24ms/step - loss: 1628.8721 - val_loss: 1059.6002\n",
      "Epoch 36/50\n",
      "\u001b[1m592/592\u001b[0m \u001b[32m━━━━━━━━━━━━━━━━━━━━\u001b[0m\u001b[37m\u001b[0m \u001b[1m16s\u001b[0m 26ms/step - loss: 1705.2677 - val_loss: 1089.3319\n",
      "Epoch 37/50\n",
      "\u001b[1m592/592\u001b[0m \u001b[32m━━━━━━━━━━━━━━━━━━━━\u001b[0m\u001b[37m\u001b[0m \u001b[1m15s\u001b[0m 26ms/step - loss: 1700.3499 - val_loss: 1742.5326\n",
      "Epoch 38/50\n",
      "\u001b[1m592/592\u001b[0m \u001b[32m━━━━━━━━━━━━━━━━━━━━\u001b[0m\u001b[37m\u001b[0m \u001b[1m14s\u001b[0m 24ms/step - loss: 1610.4624 - val_loss: 1218.9733\n",
      "Epoch 39/50\n",
      "\u001b[1m592/592\u001b[0m \u001b[32m━━━━━━━━━━━━━━━━━━━━\u001b[0m\u001b[37m\u001b[0m \u001b[1m12s\u001b[0m 21ms/step - loss: 1653.6514 - val_loss: 1757.3241\n",
      "Epoch 40/50\n",
      "\u001b[1m592/592\u001b[0m \u001b[32m━━━━━━━━━━━━━━━━━━━━\u001b[0m\u001b[37m\u001b[0m \u001b[1m12s\u001b[0m 21ms/step - loss: 1639.3134 - val_loss: 1018.1932\n",
      "Epoch 41/50\n",
      "\u001b[1m592/592\u001b[0m \u001b[32m━━━━━━━━━━━━━━━━━━━━\u001b[0m\u001b[37m\u001b[0m \u001b[1m13s\u001b[0m 21ms/step - loss: 1567.1357 - val_loss: 1464.2859\n",
      "Epoch 42/50\n",
      "\u001b[1m592/592\u001b[0m \u001b[32m━━━━━━━━━━━━━━━━━━━━\u001b[0m\u001b[37m\u001b[0m \u001b[1m20s\u001b[0m 21ms/step - loss: 1662.4226 - val_loss: 2611.1436\n",
      "Epoch 43/50\n",
      "\u001b[1m592/592\u001b[0m \u001b[32m━━━━━━━━━━━━━━━━━━━━\u001b[0m\u001b[37m\u001b[0m \u001b[1m12s\u001b[0m 21ms/step - loss: 1573.7885 - val_loss: 2772.1562\n",
      "Epoch 44/50\n",
      "\u001b[1m592/592\u001b[0m \u001b[32m━━━━━━━━━━━━━━━━━━━━\u001b[0m\u001b[37m\u001b[0m \u001b[1m13s\u001b[0m 21ms/step - loss: 1680.8781 - val_loss: 1470.4763\n",
      "Epoch 45/50\n",
      "\u001b[1m592/592\u001b[0m \u001b[32m━━━━━━━━━━━━━━━━━━━━\u001b[0m\u001b[37m\u001b[0m \u001b[1m23s\u001b[0m 25ms/step - loss: 1514.0979 - val_loss: 1382.5878\n",
      "Epoch 46/50\n",
      "\u001b[1m592/592\u001b[0m \u001b[32m━━━━━━━━━━━━━━━━━━━━\u001b[0m\u001b[37m\u001b[0m \u001b[1m14s\u001b[0m 23ms/step - loss: 1431.5813 - val_loss: 1916.0317\n",
      "Epoch 47/50\n",
      "\u001b[1m592/592\u001b[0m \u001b[32m━━━━━━━━━━━━━━━━━━━━\u001b[0m\u001b[37m\u001b[0m \u001b[1m11s\u001b[0m 19ms/step - loss: 1535.9365 - val_loss: 2464.9558\n",
      "Epoch 48/50\n",
      "\u001b[1m592/592\u001b[0m \u001b[32m━━━━━━━━━━━━━━━━━━━━\u001b[0m\u001b[37m\u001b[0m \u001b[1m10s\u001b[0m 17ms/step - loss: 1528.5238 - val_loss: 3043.6406\n",
      "Epoch 49/50\n",
      "\u001b[1m592/592\u001b[0m \u001b[32m━━━━━━━━━━━━━━━━━━━━\u001b[0m\u001b[37m\u001b[0m \u001b[1m10s\u001b[0m 17ms/step - loss: 1550.3600 - val_loss: 1160.5753\n",
      "Epoch 50/50\n",
      "\u001b[1m592/592\u001b[0m \u001b[32m━━━━━━━━━━━━━━━━━━━━\u001b[0m\u001b[37m\u001b[0m \u001b[1m10s\u001b[0m 16ms/step - loss: 1548.9410 - val_loss: 2040.0581\n"
     ]
    }
   ],
   "source": [
    "# Train the model\n",
    "history = cnn_model.fit(X_train_reshaped, y_train, epochs=50, batch_size=32, validation_split=0.2)"
   ]
  },
  {
   "cell_type": "code",
   "execution_count": 10,
   "id": "2197f161-65e6-4eb5-9144-a8f57d5bc09c",
   "metadata": {},
   "outputs": [
    {
     "name": "stdout",
     "output_type": "stream",
     "text": [
      "\u001b[1m185/185\u001b[0m \u001b[32m━━━━━━━━━━━━━━━━━━━━\u001b[0m\u001b[37m\u001b[0m \u001b[1m1s\u001b[0m 5ms/step\n"
     ]
    }
   ],
   "source": [
    "# Make predictions\n",
    "y_pred_cnn = cnn_model.predict(X_test_reshaped)"
   ]
  },
  {
   "cell_type": "code",
   "execution_count": 11,
   "id": "a794c5ad-f485-4aa9-9f28-0eb9600a1e9a",
   "metadata": {},
   "outputs": [
    {
     "name": "stdout",
     "output_type": "stream",
     "text": [
      "CNN Model Mean Absolute Error: 32.50261688232422\n"
     ]
    }
   ],
   "source": [
    "# Evaluate the model\n",
    "mae_cnn = mean_absolute_error(y_test, y_pred_cnn)\n",
    "print(f\"CNN Model Mean Absolute Error: {mae_cnn}\")"
   ]
  },
  {
   "cell_type": "code",
   "execution_count": 12,
   "id": "124a168b-a61d-4778-b5d6-1011f0cb408b",
   "metadata": {},
   "outputs": [
    {
     "data": {
      "text/html": [
       "<div>\n",
       "<style scoped>\n",
       "    .dataframe tbody tr th:only-of-type {\n",
       "        vertical-align: middle;\n",
       "    }\n",
       "\n",
       "    .dataframe tbody tr th {\n",
       "        vertical-align: top;\n",
       "    }\n",
       "\n",
       "    .dataframe thead th {\n",
       "        text-align: right;\n",
       "    }\n",
       "</style>\n",
       "<table border=\"1\" class=\"dataframe\">\n",
       "  <thead>\n",
       "    <tr style=\"text-align: right;\">\n",
       "      <th></th>\n",
       "      <th>Actual</th>\n",
       "      <th>Predicted</th>\n",
       "    </tr>\n",
       "  </thead>\n",
       "  <tbody>\n",
       "    <tr>\n",
       "      <th>28260</th>\n",
       "      <td>10.0</td>\n",
       "      <td>20.611496</td>\n",
       "    </tr>\n",
       "    <tr>\n",
       "      <th>15601</th>\n",
       "      <td>224.0</td>\n",
       "      <td>184.601044</td>\n",
       "    </tr>\n",
       "    <tr>\n",
       "      <th>7839</th>\n",
       "      <td>54.0</td>\n",
       "      <td>38.459961</td>\n",
       "    </tr>\n",
       "    <tr>\n",
       "      <th>4850</th>\n",
       "      <td>126.0</td>\n",
       "      <td>85.798874</td>\n",
       "    </tr>\n",
       "    <tr>\n",
       "      <th>4699</th>\n",
       "      <td>135.0</td>\n",
       "      <td>123.115074</td>\n",
       "    </tr>\n",
       "    <tr>\n",
       "      <th>...</th>\n",
       "      <td>...</td>\n",
       "      <td>...</td>\n",
       "    </tr>\n",
       "    <tr>\n",
       "      <th>21809</th>\n",
       "      <td>3.0</td>\n",
       "      <td>10.627508</td>\n",
       "    </tr>\n",
       "    <tr>\n",
       "      <th>19517</th>\n",
       "      <td>90.0</td>\n",
       "      <td>53.161472</td>\n",
       "    </tr>\n",
       "    <tr>\n",
       "      <th>28844</th>\n",
       "      <td>360.0</td>\n",
       "      <td>325.265198</td>\n",
       "    </tr>\n",
       "    <tr>\n",
       "      <th>3</th>\n",
       "      <td>90.0</td>\n",
       "      <td>60.314533</td>\n",
       "    </tr>\n",
       "    <tr>\n",
       "      <th>20585</th>\n",
       "      <td>96.0</td>\n",
       "      <td>62.996468</td>\n",
       "    </tr>\n",
       "  </tbody>\n",
       "</table>\n",
       "<p>5912 rows × 2 columns</p>\n",
       "</div>"
      ],
      "text/plain": [
       "       Actual   Predicted\n",
       "28260    10.0   20.611496\n",
       "15601   224.0  184.601044\n",
       "7839     54.0   38.459961\n",
       "4850    126.0   85.798874\n",
       "4699    135.0  123.115074\n",
       "...       ...         ...\n",
       "21809     3.0   10.627508\n",
       "19517    90.0   53.161472\n",
       "28844   360.0  325.265198\n",
       "3        90.0   60.314533\n",
       "20585    96.0   62.996468\n",
       "\n",
       "[5912 rows x 2 columns]"
      ]
     },
     "execution_count": 12,
     "metadata": {},
     "output_type": "execute_result"
    }
   ],
   "source": [
    "comparisonCNN = pd.DataFrame({'Actual': y_test, 'Predicted': y_pred_cnn.flatten()})\n",
    "comparisonCNN"
   ]
  },
  {
   "cell_type": "code",
   "execution_count": 20,
   "id": "ba4900ae-58a8-4c47-8dfc-6421fbbf6b6e",
   "metadata": {},
   "outputs": [
    {
     "data": {
      "image/png": "[encoded data removed]",
      "text/plain": [
       "<Figure size 1400x700 with 1 Axes>"
      ]
     },
     "metadata": {},
     "output_type": "display_data"
    }
   ],
   "source": [
    "import matplotlib.pyplot as plt\n",
    "import seaborn as sns\n",
    "\n",
    "# Plotting the results\n",
    "plt.figure(figsize=(14, 7))\n",
    "\n",
    "# MLP Model\n",
    "plt.subplot(1, 1, 1)\n",
    "\n",
    "# Plot predicted values in blue\n",
    "sns.scatterplot(x=y_test, y=y_pred_cnn.flatten(), color='blue', label='Predicted')\n",
    "\n",
    "# Plot actual values in red\n",
    "sns.scatterplot(x=y_test, y=y_test, color='red', label='Actual')\n",
    "\n",
    "# Plot the identity line (45-degree line) for reference\n",
    "plt.plot([y_test.min(), y_test.max()], [y_test.min(), y_test.max()], 'k--', lw=2)\n",
    "\n",
    "# Labels and title\n",
    "plt.xlabel('Actual')\n",
    "plt.ylabel('Predicted')\n",
    "plt.title('CNN Model')\n",
    "\n",
    "# Show legend\n",
    "plt.legend()\n",
    "\n",
    "# Add titles and layout adjustments\n",
    "plt.tight_layout()\n",
    "plt.show()"
   ]
  },
  {
   "cell_type": "code",
   "execution_count": 14,
   "id": "d63ef45f-25cc-4f4e-8204-5a36dec1235f",
   "metadata": {},
   "outputs": [
    {
     "name": "stdout",
     "output_type": "stream",
     "text": [
      "  CNN Model Metrics:\n",
      "  Mean Absolute Error (MAE): 32.50261688232422\n",
      "  Mean Squared Error (MSE): 2014.7821044921875\n",
      "  Root Mean Squared Error (RMSE): 44.88632583618164\n",
      "  R^2 Score: 0.9300068718819032\n",
      "\n"
     ]
    }
   ],
   "source": [
    "mae, mse, rmse, r2 = calculate_metrics(y_test, y_pred_cnn)\n",
    "print(f\"  CNN Model Metrics:\")\n",
    "print(f\"  Mean Absolute Error (MAE): {mae}\")\n",
    "print(f\"  Mean Squared Error (MSE): {mse}\")\n",
    "print(f\"  Root Mean Squared Error (RMSE): {rmse}\")\n",
    "print(f\"  R^2 Score: {r2}\\n\")"
   ]
  },
  {
   "cell_type": "code",
   "execution_count": null,
   "id": "5012819c-47e7-4ec3-9cf9-ee151ef0a5c5",
   "metadata": {},
   "outputs": [],
   "source": []
  }
 ],
 "metadata": {
  "kernelspec": {
   "display_name": "Python 3 (ipykernel)",
   "language": "python",
   "name": "python3"
  },
  "language_info": {
   "codemirror_mode": {
    "name": "ipython",
    "version": 3
   },
   "file_extension": ".py",
   "mimetype": "text/x-python",
   "name": "python",
   "nbconvert_exporter": "python",
   "pygments_lexer": "ipython3",
   "version": "3.11.7"
  }
 },
 "nbformat": 4,
 "nbformat_minor": 5
}
